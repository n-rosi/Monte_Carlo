{
 "cells": [
  {
   "cell_type": "markdown",
   "id": "00d32563-abe2-417f-98f3-abff7789294a",
   "metadata": {},
   "source": [
    "# Monte Carlo method"
   ]
  },
  {
   "cell_type": "code",
   "execution_count": 4,
   "id": "b3383902-81c4-4e54-b723-c68633cd9c5d",
   "metadata": {},
   "outputs": [],
   "source": [
    "import numpy as np\n",
    "import matplotlib.pyplot as plt\n",
    "import matplotlib as mpl\n",
    "import time\n",
    "import math as m\n",
    "from Utils import utils"
   ]
  },
  {
   "cell_type": "markdown",
   "id": "4ab73b06-c97c-4dc1-aa7b-aa37b7c525f6",
   "metadata": {},
   "source": [
    "# Generation of discrete random variables\n",
    "\n",
    "## Coin toss\n",
    "\n",
    "In this example we want to simulate the histogram $b(x;N=10,p=0.5)$, where the probability $p_i$ associated with each channel is computed as: \n",
    "$$b(x_i;10,0.5) \\sim f_i \\pm \\sqrt{\\frac{f_i(1-f_i)}{N}}$$\n",
    "\n",
    "### Method (1) - simulate the experiment.\n",
    "1. Generate 10 random numbers $\\xi_1,...,\\xi_{10}$;\n",
    "2. Count how many times, $x$, $\\xi_{i} < 0.5$;\n",
    "3. Repete steps 1 and 2 for N times and record the results in an histogram."
   ]
  },
  {
   "cell_type": "code",
   "execution_count": 5,
   "id": "92e9c73b-4eb4-47b8-8d16-4c2efa16a2b6",
   "metadata": {},
   "outputs": [],
   "source": [
    "prove = 20000\n",
    "histo1 = np.zeros(11)                                                           \n",
    "bincenters = np.arange(11)                                                      # bincenters = [0 , 1 , 2 , 3 , 4, 5, 6, 7, 8, 9, 10] possible outcomes.\n",
    "\n",
    "np.random.seed(42)\n",
    "\n",
    "for i in range(prove):\n",
    "  x1 = np.random.rand(10)                                                       # 1) Simulate a vector \"x\" composed of 10 float between 0 and 1\n",
    "  app = np.sum(x1>0.5)                                                          # 2) Count how many elements of \"x\"\n",
    "                                                                                #    are heads and save the result in a vector \"counts\" with 1000 entries \n",
    "  histo1[int(app)] = histo1[int(app)] + 1\n",
    "                                                              \n",
    "freq1 = histo1/prove                                                            # 4) Transform counts in frequencies\n",
    "err_freq1 = np.sqrt(freq1*(1-freq1)/prove)                                      # 5) Compute the error on frequencies"
   ]
  },
  {
   "cell_type": "markdown",
   "id": "4cacb865-e962-4f5c-abe1-43c6f7c29653",
   "metadata": {},
   "source": [
    "### Method (2) - Cumulative function.\n",
    "The cumulative function of a probabilistic distibution always maps its domain between 0 and 1. Then, it is possible to execute random extractions in this range assming they represent the cumulative function of the distribution we want to represent:\n",
    "\n",
    "$$ F_j = \\sum_{k = 0}^j p_k $$\n",
    "\n",
    "Repete N times:\n",
    "1. Generate a random number $\\xi_i$ uniformely in [0,1].\n",
    "2. Find the index $j$ which verify the inequality:\n",
    "\\begin{align}\n",
    "F_{j-1} < \\xi_i \\le F_j \\\\\n",
    "\\end{align}\n",
    "3. Put $X = x_j$"
   ]
  },
  {
   "cell_type": "code",
   "execution_count": 8,
   "id": "04fed5eb-ead5-4148-858d-26e6e7d859d0",
   "metadata": {},
   "outputs": [],
   "source": [
    "cum = [0, 0.001, 0.011, 0.055, 0.172, 0.377, 0.623, 0.828,                      # 1) Declare cumulative values.\n",
    "       0.945, 0.989, 0.999, 1.]\n",
    "spettro = [0, 1, 2, 3, 4, 5, 6, 7, 8, 9, 10]                                    # 2) Declare spectrum of possible events. \n",
    "histo2 = np.zeros(len(spettro))\n",
    "\n",
    "for i in range(prove):\n",
    "  x2 = np.random.rand()                                                         # 3) Uniform extraction of a random number in range [0,1].\n",
    "  index = utils.binary_search(x2, cum)                                          # 4) Bisection algorithm to find extremes of the cumulative interval.\n",
    "  histo2[index] = histo2[index] + 1                                                                              \n",
    "\n",
    "# Clacolo della frequenza\n",
    "freq2 = histo2/prove                                                            # 6) Transfor counts in frequencies.\n",
    "err_freq2 = np.sqrt(freq2*(1-freq2)/prove)                                      # 7) Compute the error on frequencies."
   ]
  },
  {
   "cell_type": "code",
   "execution_count": 9,
   "id": "aa8070e2-f601-414f-a191-e2d0010a4371",
   "metadata": {},
   "outputs": [
    {
     "data": {
      "image/png": "[encoded data removed]",
      "text/plain": [
       "<Figure size 1000x400 with 2 Axes>"
      ]
     },
     "metadata": {},
     "output_type": "display_data"
    },
    {
     "name": "stdout",
     "output_type": "stream",
     "text": [
      "\n",
      "Method 1:\n",
      "Sample mean = 5.012 +/- 0.011\n",
      "Sample std = 1.579 +/- 0.008 (non gaussian xi)\n",
      "Sample std = 1.579 +/- 0.008 (xi gaussian approximation)\n",
      "\n",
      "Method 2:\n",
      "Sample mean = 5.009 +/- 0.011\n",
      "Sample std = 1.588 +/- 0.008 (non gaussian xi)\n",
      "Sample std = 1.588 +/- 0.008 (xi gaussian approximation)\n"
     ]
    }
   ],
   "source": [
    "f=plt.figure(figsize=(10, 4))\n",
    "\n",
    "ax1=plt.subplot(1, 2, 1)\n",
    "ax1.bar(bincenters, freq1, width = 1, color='r', yerr=err_freq1)\n",
    "ax1.set_title('Method 1')\n",
    "ax1.set_xlabel('croci')\n",
    "ax1.set_ylabel('meas. freq')\n",
    "ax1.grid(True)\n",
    "\n",
    "ax2=plt.subplot(1, 2, 2)\n",
    "ax2.bar(spettro, freq2, width = 1, color='b',yerr=err_freq2)\n",
    "ax2.set_title('Methd 2')\n",
    "ax2.set_xlabel('croci')\n",
    "ax2.set_ylabel('meas. freq')\n",
    "ax2.grid(True)\n",
    "\n",
    "plt.show()\n",
    "\n",
    "print()\n",
    "print(\"Method 1:\")\n",
    "print(\"Sample mean = {:.3f} +/- {:.3f}\". format(utils.SAMPLE_MEAN(prove,histo1,bincenters), utils.ERROR_SAMPLE_MEAN(prove, histo1, bincenters)))\n",
    "print(\"Sample std = {:.3f} +/- {:.3f} (non gaussian xi)\". format(utils.STD_ESTIMATED(prove,histo1,bincenters),utils.ERRORE_STD_ESTIMATED_NO_X_GAUSS(prove, histo1, bincenters)))\n",
    "print(\"Sample std = {:.3f} +/- {:.3f} (xi gaussian approximation)\". format(utils.STD_ESTIMATED(prove,histo1,bincenters),utils.ERROR_STD_ESTIMATED_YES_X_GAUSS(prove, histo1, bincenters)))\n",
    "print()\n",
    "print(\"Method 2:\")\n",
    "print(\"Sample mean = {:.3f} +/- {:.3f}\". format(utils.SAMPLE_MEAN(prove,histo2,bincenters),utils.ERROR_SAMPLE_MEAN(prove, histo2, bincenters)))\n",
    "print(\"Sample std = {:.3f} +/- {:.3f} (non gaussian xi)\". format(utils.STD_ESTIMATED(prove,histo2,bincenters),utils.ERRORE_STD_ESTIMATED_NO_X_GAUSS(prove, histo2, bincenters)))\n",
    "print(\"Sample std = {:.3f} +/- {:.3f} (xi gaussian approximation)\". format(utils.STD_ESTIMATED(prove,histo2,bincenters),utils.ERROR_STD_ESTIMATED_YES_X_GAUSS(prove, histo2, bincenters)))\n"
   ]
  },
  {
   "cell_type": "markdown",
   "id": "bd22181f-844b-496d-b997-c1e1019c86f6",
   "metadata": {},
   "source": [
    "## Throwing a pair of dice\n",
    "![buffon](Img/dice.png)"
   ]
  },
  {
   "cell_type": "code",
   "execution_count": 11,
   "id": "8a1354a2-72f4-4e78-8083-0e54aae2fde5",
   "metadata": {},
   "outputs": [
    {
     "data": {
      "image/png": "[encoded data removed]",
      "text/plain": [
       "<Figure size 640x480 with 1 Axes>"
      ]
     },
     "metadata": {},
     "output_type": "display_data"
    }
   ],
   "source": [
    "# Define the cumulative function and the possible events.\n",
    "cum = [0., 1/36, 3/36, 6/36, 10/36, 15/36, 21/36, 26/36, 30/36, 33/36, 35/36, 1.]                       #cumulative\n",
    "sum = [2, 3, 4, 5, 6, 7, 8, 9, 10, 11, 12]                                                              #spectrum of events\n",
    "counts = np.zeros(11)                                                                                   #hisogram to fill\n",
    "N = 20000\n",
    "\n",
    "# Estraction of random variables within their domain.\n",
    "for i in range(N):\n",
    "  x = np.random.rand()\n",
    "  index = utils.binary_search(x, cum)\n",
    "  counts[index] = counts[index] + 1\n",
    "\n",
    "# Compute frequencies.\n",
    "freq = counts/N\n",
    "err_freq = np.sqrt(freq*(1-freq)/N)\n",
    "\n",
    "# Plot.\n",
    "plt.bar(sum, freq, width = 1, color='g',yerr=err_freq)\n",
    "plt.xlabel('sum')\n",
    "plt.ylabel('freq')\n",
    "plt.grid(True)\n",
    "plt.show()"
   ]
  },
  {
   "cell_type": "code",
   "execution_count": 15,
   "id": "b0544df7-34ef-4938-92d4-95fe50ee1196",
   "metadata": {},
   "outputs": [
    {
     "name": "stdout",
     "output_type": "stream",
     "text": [
      "\n",
      "sample mean = 7.01 +/- 0.02, corresponding to CL 68%\n",
      "sample mean = 7.01 +/- 0.05, corresponding to CL 99.7%\n",
      "\n",
      "estimated std = 2.410 +/- 0.010, corresponding to CL 68% - no gaussian xi\n",
      "estimated std = 2.410 +/- 0.012, corresponding to CL 68% - xi are gaussian approximated\n",
      "\n",
      "sample variance = 5.81 +/- 0.05, corresponding to CL 68% - no gaussian xi\n",
      "sample variance = 5.81 +/- 0.06, corresponding to CL 68% - xi are gaussian approximated\n"
     ]
    }
   ],
   "source": [
    "#SAMPLE MEAN AND ASSOCIATED ERROR. \n",
    "mean = utils.SAMPLE_MEAN(N,counts,sum)                                          #SAMPLE MEAN\n",
    "mean_error = utils.ERROR_SAMPLE_MEAN(N,counts,sum)                             #STATISTICAL ERROR DIVIDED BY SQRT(N)\n",
    "print()\n",
    "print(\"sample mean = {:.2f} +/- {:.2f}, corresponding to CL 68%\".format( mean, mean_error ))\n",
    "print(\"sample mean = {:.2f} +/- {:.2f}, corresponding to CL 99.7%\".format( mean, 3 * mean_error ))\n",
    "\n",
    "#SAMPLE STD AND ASSOCIATED ERROR. \n",
    "STD = utils.STD_ESTIMATED(N,counts,sum)\n",
    "S_STD = utils.ERRORE_STD_ESTIMATED_NO_X_GAUSS(N,counts,sum)\n",
    "S_STD_GAUSS = utils.ERROR_STD_ESTIMATED_YES_X_GAUSS(N,counts,sum)\n",
    "print()\n",
    "print(\"estimated std = {:.3f} +/- {:.3f}, corresponding to CL 68% - no gaussian xi\".format( STD, S_STD ))\n",
    "print(\"estimated std = {:.3f} +/- {:.3f}, corresponding to CL 68% - xi are gaussian approximated\".format( STD, S_STD_GAUSS ))\n",
    "\n",
    "#SAMPLE VARIANCE AND ASSOCIATED ERROR.\n",
    "VAR = utils.SAMPLE_VARIANCE(N,counts,sum)\n",
    "S_VAR = utils.ERROR_SAMPLE_VARIANCE_NO_X_GAUSS(N,counts,sum)\n",
    "S_VAR_GAUSS = utils.ERROR_SAMPLE_VARIANCE_YES_X_GAUSS(N,counts,sum)\n",
    "print()\n",
    "print(\"sample variance = {:.2f} +/- {:.2f}, corresponding to CL 68% - no gaussian xi\".format( VAR, S_VAR ))\n",
    "print(\"sample variance = {:.2f} +/- {:.2f}, corresponding to CL 68% - xi are gaussian approximated\".format( VAR, S_VAR_GAUSS ))"
   ]
  },
  {
   "cell_type": "code",
   "execution_count": null,
   "id": "1a1eab92-28ad-42c3-9c1f-fba764cb9f90",
   "metadata": {},
   "outputs": [],
   "source": []
  }
 ],
 "metadata": {
  "kernelspec": {
   "display_name": "ddsande",
   "language": "python",
   "name": "ddsande"
  },
  "language_info": {
   "codemirror_mode": {
    "name": "ipython",
    "version": 3
   },
   "file_extension": ".py",
   "mimetype": "text/x-python",
   "name": "python",
   "nbconvert_exporter": "python",
   "pygments_lexer": "ipython3",
   "version": "3.10.10"
  }
 },
 "nbformat": 4,
 "nbformat_minor": 5
}

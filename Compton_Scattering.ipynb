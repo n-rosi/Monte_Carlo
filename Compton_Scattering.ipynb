{
 "cells": [
  {
   "cell_type": "markdown",
   "id": "a5ae73dc-9283-4315-900a-531ed48c1b0c",
   "metadata": {},
   "source": [
    "# Compon Scattering\n",
    "\n",
    "As we know, Monte Carlo can be exploit as method for numerical integration, in particulr, it becomes convenint when the dimensionality of the probelm is high. In this example, we emply Monte Carlo to obtain the integral cross section for the Compton scattering for a given energy of the incoming photons.\n",
    "\n",
    "![compton](Img/compton.jpg)"
   ]
  },
  {
   "cell_type": "markdown",
   "id": "db6fde0f-bf22-4831-a735-f83793b85d33",
   "metadata": {},
   "source": [
    "The integral cross section for the three-level interaction can be written as:\n",
    "\n",
    "$$ \\int_{phase-space}d\\sigma =\n",
    "\\int\\int\\int\\int\\int\\int\\frac{1}{((P_1P_2)^2 - (m_1m_2)^2)^{1/4}}\\hat{|M|}^2(2\\pi)^2\\delta(P_1+P_2-Q_1-Q_2)\\frac{d^3Q_1}{(2\\pi)^32E_1'}\\frac{d^3Q_2}{(2\\pi)^32E_2'}$$\n",
    "\n",
    "## Dynamic\n",
    "\n",
    "- $\\hat{|M|}^2 = \\frac{1}{4}\\sum_{s,\\lambda}|M|^2 = 2e^4\\Bigl(\\frac{\\omega'}{\\omega}+\\frac{\\omega}{\\omega'}-sin\\theta^2\\Bigr)$ is due to the contribution of the s and u three-level channels.\n",
    "\n",
    "- Thanks to quadrimomentum conservation, it is possible to switch from 6 to 2 independent variables, $\\phi$  and $cos\\theta$, which can be integrated in the intervals $[0,2\\pi]$ and $[-1,1]$ respectively:\n",
    "\n",
    "$$\\frac{1}{((P_1P_2)^2 - (m_1m_2)^2)^{1/4}} \\frac{d^3Q_1}{(2\\pi)^32E_1'}\\frac{d^3Q_2}{(2\\pi)^32E_2'}= \\frac{1}{8\\pi m_e^2}\\frac{\\omega^2}{\\omega'^2}d\\phi dcos\\theta$$\n",
    "\n",
    "## Cinematic\n",
    "\n",
    "If we define $\\hat{z}$ as the direction of the incoming photon, we can describe the relationship between the incoming and outcoming cinematic variables as follow:\n",
    "\n",
    "- $ P_1 = ( \\omega , 0 , 0 , \\omega ) $ quadrimomentum of the incoming photon.\n",
    "- $P_2 = ( m_e , 0 , 0 , 0 ) $ quadrimomentum of the incoming electron.\n",
    "- $Q_1 = ( \\omega ' , \\omega ' cos\\phi sin\\theta , \\omega ' sin\\phi sin\\theta , \\omega ' cos\\theta ) $ quadrimomentum of the outcoming photon.\n",
    "- $Q_2 = (E ' , |\\vec{Q}_2| cos\\phi_E sin\\theta_E , |\\vec{Q}_2| sin\\phi_E sin\\theta_E , |\\vec{Q}_2| cos\\theta_E ) $ quadrimomentum of the outcoming electron.\n",
    "\n",
    "Here, $\\theta$, $\\phi$ and $\\omega$ are independent variables, while $\\theta_E$, $\\phi_E$, $\\omega '$, and $E'$ are the dependent variables. In addition, to make the code simpler, we will define:\n",
    "\n",
    "$$x = \\frac{\\omega'}{\\omega}~~~~~~~~~~~~~~~y = 1-x$$\n",
    "\n",
    "which can be interpreted as the fraction between the energies of the outcoming and incoming photons and the fraction of energy lost from the incoming photon in the collision respectively."
   ]
  },
  {
   "cell_type": "code",
   "execution_count": 22,
   "id": "60b94577-628b-4aea-a9d8-398655a31b8e",
   "metadata": {},
   "outputs": [],
   "source": [
    "# Libraries.\n",
    "import numpy as np\n",
    "from numpy import random\n",
    "\n",
    "# Random seeds.\n",
    "random.seed(42)"
   ]
  },
  {
   "cell_type": "markdown",
   "id": "f17a1cd7-3e87-424d-a2c6-ce486c36d379",
   "metadata": {},
   "source": [
    "### Initialization of the physical probelm parameters."
   ]
  },
  {
   "cell_type": "code",
   "execution_count": 27,
   "id": "6b1c6793-9010-4b8d-b5b5-64a6021bc11d",
   "metadata": {},
   "outputs": [],
   "source": [
    "# masses ( me is electron mass and mg is photon mass, units are in MeV )\n",
    "me = 0.511\n",
    "mg = 0 \n",
    "me2 = me * me\n",
    "mg2 = 0\n",
    "\n",
    "# relevant constants.\n",
    "alpha= 1. /137.                # fine structure constant ( adim ).\n",
    "pi = np.pi\n",
    "e2 = 4. * pi * alpha           # electron charge squared ( C^2 ).\n",
    "convfac = 389.4                # conversion from MeV^-2 to barn ( 10-24 cm^2 )\n",
    "\n",
    "# photon initial energy.\n",
    "omega = 10"
   ]
  },
  {
   "cell_type": "code",
   "execution_count": 24,
   "id": "c9e387bd-e316-4b01-a40a-25ac6a743d2d",
   "metadata": {},
   "outputs": [],
   "source": [
    "# upper boundary for the integrand function.\n",
    "FUNVALMAX = ( ( alpha * alpha ) / 2. / me2 ) * convfac\n",
    "# maximum number of calls for weigthed events.\n",
    "NHITWMAX = 1000\n",
    "# maximum number of calls for unwaigthed events.\n",
    "NHITWMAX = 1000\n",
    "# maximum total number of calls.\n",
    "NCALLS = 10 ** 9"
   ]
  },
  {
   "cell_type": "markdown",
   "id": "85f1b1e7-b94c-412b-9f36-946d6979df2c",
   "metadata": {},
   "source": [
    "### Monte Carlo Extraction\n",
    "\n",
    "The probelm is solved appling the methods which are reported in ... , called weigthed and "
   ]
  },
  {
   "cell_type": "code",
   "execution_count": 25,
   "id": "56ebdcb8-ad6e-460a-a40b-7724baedaac2",
   "metadata": {},
   "outputs": [],
   "source": [
    "LEN = 3"
   ]
  },
  {
   "cell_type": "code",
   "execution_count": 26,
   "id": "71040139-94b4-4bba-90f2-b48c54a479fd",
   "metadata": {},
   "outputs": [],
   "source": [
    "for event in range( NCALLS ):\n",
    "    \n",
    "    CM1 = random.rand(1)\n",
    "    CM2 = random.rand(1)\n",
    "    \n",
    "    # Random variable extraction using the cumulative method.\n",
    "    phi = 2 * pi * CM1\n",
    "    \n",
    "    # Compute \n",
    "    "
   ]
  },
  {
   "cell_type": "code",
   "execution_count": null,
   "id": "dfe5f5be-88dc-47ec-9c2b-1b8b54e81a3e",
   "metadata": {},
   "outputs": [],
   "source": []
  }
 ],
 "metadata": {
  "kernelspec": {
   "display_name": "ddsande",
   "language": "python",
   "name": "ddsande"
  },
  "language_info": {
   "codemirror_mode": {
    "name": "ipython",
    "version": 3
   },
   "file_extension": ".py",
   "mimetype": "text/x-python",
   "name": "python",
   "nbconvert_exporter": "python",
   "pygments_lexer": "ipython3",
   "version": "3.10.10"
  }
 },
 "nbformat": 4,
 "nbformat_minor": 5
}

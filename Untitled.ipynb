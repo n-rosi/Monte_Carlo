{
 "cells": [
  {
   "cell_type": "markdown",
   "id": "00d32563-abe2-417f-98f3-abff7789294a",
   "metadata": {},
   "source": [
    "# Monte Carlo method\n",
    "![mc](Img/mc.png)"
   ]
  },
  {
   "cell_type": "code",
   "execution_count": 1,
   "id": "b3383902-81c4-4e54-b723-c68633cd9c5d",
   "metadata": {},
   "outputs": [],
   "source": [
    "import numpy as np\n",
    "import matplotlib.pyplot as plt\n",
    "import matplotlib as mpl\n",
    "import time\n",
    "import math as m\n",
    "from Utils import utils"
   ]
  },
  {
   "cell_type": "markdown",
   "id": "4ab73b06-c97c-4dc1-aa7b-aa37b7c525f6",
   "metadata": {},
   "source": [
    "# Generation of discrete random variables\n",
    "\n",
    "## Coin toss\n",
    "\n",
    "Simulation of the histogram: $b(x;N=10,p=0.5)$, where the probability $p_i$ associated with each channel is computed as: $b(x_i;10,0.5) \\sim f_i \\pm \\sqrt{\\frac{f_i(1-f_i)}{N}}$\n",
    "\n",
    "### 1. Simulate the experiment.\n",
    "1. Generate 10 random numbers $\\xi_1,...,\\xi_{10}$;\n",
    "2. Count how many times, $x$, $\\xi_{i} < 0.5$;\n",
    "3. Repete steps 1 and 2 for N times and record the results in an histogram."
   ]
  },
  {
   "cell_type": "code",
   "execution_count": 2,
   "id": "92e9c73b-4eb4-47b8-8d16-4c2efa16a2b6",
   "metadata": {},
   "outputs": [],
   "source": [
    "#Metodo 1: experiment simulation\n",
    "\n",
    "prove = 20000\n",
    "histo1 = np.zeros(11)                                                           \n",
    "bincenters = np.arange(11)                                                      # bincenters = [0 , 1 , 2 , 3 , 4, 5, 6, 7, 8, 9, 10] possible outcomes.\n",
    "\n",
    "np.random.seed(42)\n",
    "\n",
    "for i in range(prove):\n",
    "  x1 = np.random.rand(10)                                                       # 1) Simulate a vector \"x\" composed of 10 float between 0 and 1\n",
    "  app = np.sum(x1>0.5)                                                          # 2) Count how many elements of \"x\" sono are heads and save the result in a vector \"counts\" with 1000 entries \n",
    "  histo1[int(app)] = histo1[int(app)] + 1\n",
    "                                                              \n",
    "freq1 = histo1/prove                                                            # 4) Transform counts in frequencies\n",
    "err_freq1 = np.sqrt(freq1*(1-freq1)/prove)                                      # 5) Compute the error on frequencies"
   ]
  },
  {
   "cell_type": "markdown",
   "id": "4cacb865-e962-4f5c-abe1-43c6f7c29653",
   "metadata": {},
   "source": [
    "### 2. Cumulative method.\n",
    "Repete N times:\n",
    "1. Generate a random number $\\xi_i$ uniformely in [0,1].\n",
    "2. Find the index $j$ which verify the inequality:\n",
    "\\begin{align}\n",
    "F_{j-1} < \\xi_i \\le F_j \\\\\n",
    "\\end{align}\n",
    "3. Put $X = x_j$"
   ]
  },
  {
   "cell_type": "code",
   "execution_count": 3,
   "id": "04fed5eb-ead5-4148-858d-26e6e7d859d0",
   "metadata": {},
   "outputs": [],
   "source": [
    "#Metodo 2: Cumulative method\n",
    "\n",
    "cum = [0, 0.001, 0.011, 0.055, 0.172, 0.377, 0.623, 0.828,                      # 1) Dichiaro i valori della cumulativa (p. 52, Tab. 2.3)\n",
    "       0.945, 0.989, 0.999, 1.]\n",
    "spettro = [0, 1, 2, 3, 4, 5, 6, 7, 8, 9, 10]                                    # 2) Dichiaro lo spettro dei possibili eventi\n",
    "histo2 = np.zeros(len(spettro))\n",
    "\n",
    "for i in range(prove):\n",
    "  x2 = np.random.rand()                                                         # 3) Estraggo un numero random uniformemente in [0,1] per la cumulativa\n",
    "  index = utils.binary_search(x2, cum)                                                # 4) Uso la ricerca binaria per trovare gli estremi dell'intervallo di appartenenza \n",
    "  histo2[index] = histo2[index] + 1                                             # 5) Aggiungo un conteggio in corrispondenza del numero di croci ottenute \"invertendo\" la cumulativa\n",
    "\n",
    "# Clacolo della frequenza\n",
    "freq2 = histo2/prove                                                            # 6) Trasformo i conteggi in frequenza\n",
    "err_freq2 = np.sqrt(freq2*(1-freq2)/prove)                                      # 7) Calcolo l'errore sulla frequenza"
   ]
  },
  {
   "cell_type": "code",
   "execution_count": 7,
   "id": "aa8070e2-f601-414f-a191-e2d0010a4371",
   "metadata": {},
   "outputs": [
    {
     "data": {
      "image/png": "[encoded data removed]",
      "text/plain": [
       "<Figure size 1000x400 with 2 Axes>"
      ]
     },
     "metadata": {},
     "output_type": "display_data"
    },
    {
     "name": "stdout",
     "output_type": "stream",
     "text": [
      "\n",
      "Method 1:\n",
      "Sample mean = 5.012 +/- 0.011\n",
      "Sample std = 1.579 +/- 0.008 (non gaussian xi)\n",
      "Sample std = 1.579 +/- 0.008 (xi gaussian approximation)\n",
      "\n",
      "Method 2:\n",
      "Sample mean = 4.993 +/- 0.011\n",
      "Sample std = 1.590 +/- 0.008 (non gaussian xi)\n",
      "Sample std = 1.590 +/- 0.008 (xi gaussian approximation)\n"
     ]
    }
   ],
   "source": [
    "f=plt.figure(figsize=(10, 4))\n",
    "\n",
    "ax1=plt.subplot(1, 2, 1)\n",
    "ax1.bar(bincenters, freq1, width = 1, color='r', yerr=err_freq1)\n",
    "ax1.set_title('Method 1')\n",
    "ax1.set_xlabel('croci')\n",
    "ax1.set_ylabel('meas. freq')\n",
    "ax1.grid(True)\n",
    "\n",
    "ax2=plt.subplot(1, 2, 2)\n",
    "ax2.bar(spettro, freq2, width = 1, color='b',yerr=err_freq2)\n",
    "ax2.set_title('Methd 2')\n",
    "ax2.set_xlabel('croci')\n",
    "ax2.set_ylabel('meas. freq')\n",
    "ax2.grid(True)\n",
    "\n",
    "plt.show()\n",
    "\n",
    "print()\n",
    "print(\"Method 1:\")\n",
    "print(\"Sample mean = {:.3f} +/- {:.3f}\". format(utils.SAMPLE_MEAN(prove,histo1,bincenters), utils.ERROR_SAMPLE_MEAN(prove, histo1, bincenters)))\n",
    "print(\"Sample std = {:.3f} +/- {:.3f} (non gaussian xi)\". format(utils.STD_ESTIMATED(prove,histo1,bincenters),utils.ERRORE_STD_ESTIMATED_NO_X_GAUSS(prove, histo1, bincenters)))\n",
    "print(\"Sample std = {:.3f} +/- {:.3f} (xi gaussian approximation)\". format(utils.STD_ESTIMATED(prove,histo1,bincenters),utils.ERROR_STD_ESTIMATED_YES_X_GAUSS(prove, histo1, bincenters)))\n",
    "print()\n",
    "print(\"Method 2:\")\n",
    "print(\"Sample mean = {:.3f} +/- {:.3f}\". format(utils.SAMPLE_MEAN(prove,histo2,bincenters),utils.ERROR_SAMPLE_MEAN(prove, histo2, bincenters)))\n",
    "print(\"Sample std = {:.3f} +/- {:.3f} (non gaussian xi)\". format(utils.STD_ESTIMATED(prove,histo2,bincenters),utils.ERRORE_STD_ESTIMATED_NO_X_GAUSS(prove, histo2, bincenters)))\n",
    "print(\"Sample std = {:.3f} +/- {:.3f} (xi gaussian approximation)\". format(utils.STD_ESTIMATED(prove,histo2,bincenters),utils.ERROR_STD_ESTIMATED_YES_X_GAUSS(prove, histo2, bincenters)))\n"
   ]
  },
  {
   "cell_type": "code",
   "execution_count": null,
   "id": "0eaf8dcc-18e3-4484-bbf8-99d9867afed7",
   "metadata": {},
   "outputs": [],
   "source": []
  }
 ],
 "metadata": {
  "kernelspec": {
   "display_name": "ddsande",
   "language": "python",
   "name": "ddsande"
  },
  "language_info": {
   "codemirror_mode": {
    "name": "ipython",
    "version": 3
   },
   "file_extension": ".py",
   "mimetype": "text/x-python",
   "name": "python",
   "nbconvert_exporter": "python",
   "pygments_lexer": "ipython3",
   "version": "3.10.10"
  }
 },
 "nbformat": 4,
 "nbformat_minor": 5
}

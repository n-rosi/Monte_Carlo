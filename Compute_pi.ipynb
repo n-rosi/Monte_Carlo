{
 "cells": [
  {
   "cell_type": "markdown",
   "id": "92551978-0c73-4a50-a924-8201ff404295",
   "metadata": {},
   "source": [
    "# Compute $\\pi$ easily via the Monte Carlo Method "
   ]
  },
  {
   "cell_type": "markdown",
   "id": "0c55fc96-7a27-4b55-8312-f67c6a1607d9",
   "metadata": {},
   "source": [
    "The Monte carlo method can be used in three different flavores to compute the irrational number $\\pi$."
   ]
  },
  {
   "cell_type": "code",
   "execution_count": 4,
   "id": "ecf09348-1c39-463b-adb9-7826f0760ab1",
   "metadata": {},
   "outputs": [],
   "source": [
    "import numpy as np\n",
    "from numpy import random\n",
    "random.seed(42)\n",
    "\n",
    "N = 100000"
   ]
  },
  {
   "cell_type": "markdown",
   "id": "b5e5fa31-9055-4acd-8f1a-c2f330a3002b",
   "metadata": {},
   "source": [
    "# 1. Buffon Needle."
   ]
  },
  {
   "cell_type": "markdown",
   "id": "0632f188-76e3-4787-8a1e-82ac35c493b5",
   "metadata": {},
   "source": [
    "George Louis Lecler, earl of Buffon, proposed a probabilistic guessing game in 1777 to compute $\\pi$. The idea is to leave a rod to fall on a parallel stripped carpet and to estimate the probability that the rod intersect a line, which has a binomial distribution. Then, we can call \"favorable cases\", all the cases in which the falling ros will intercept a carpet line.\n",
    "\n",
    "![buffon](buffon.jpg)\n",
    "\n",
    "In the image, the fixed quantities are $L$, length of the rod, $Y$, distance between two consecutive lines of the carpet and $C$, projection of the rod center on the carpet. While the DoF are $\\phi$, angle between the rod and the carpet line and $P$, position of the rod center. \n",
    "\n",
    "If we consider two parallel carpet lines, $P\\in[0,Y]$ and $\\phi \\in [0,\\pi]$. The total number of all the possible configurations (including both favorable and not favorable cases) is: \n",
    "$$N= \\frac{Y}{2}\\pi$$\n",
    "The condition underling the rod intercepting a carpet line is $P \\leq (L/2) \\cdot sin\\phi$, thus thenumber of cases in which the rod intersect the line (or favorable cases) is:\n",
    "$$n = \\int_0^{pi} (L/2) \\cdot sin\\phi d\\phi = L$$\n",
    "The probability , $p$, of the rod intersecting the line is the ratio between the favorable cases and total cases:\n",
    "$$p = \\frac{n}{N} = \\frac{2L}{Y\\pi}$$\n",
    "From the last equation it is now easy to estimate $\\pi$:\n",
    "$$  \\pi = \\frac{2LN}{Yn} $$"
   ]
  },
  {
   "cell_type": "markdown",
   "id": "b70de3f9-4a89-411a-8db6-4207a0f19440",
   "metadata": {},
   "source": [
    "# 2. Unweigthed method.\n",
    "\n",
    "Given a unitary circle, it arch is descrived from the function $y = \\sqrt{1-x^2}$, then the area under the arch is simply:\n",
    "\n",
    "$$\\int_0^1dx\\sqrt{1-x^2}=\\pi/4$$\n",
    "\n",
    "One can extract one random variables, $x$, and use it to compute $f(x)=\\sqrt{1-x^2}$."
   ]
  },
  {
   "cell_type": "code",
   "execution_count": 14,
   "id": "53316f55-5720-4525-a2ba-f4343b053dee",
   "metadata": {},
   "outputs": [],
   "source": [
    "x = random.rand(N)\n",
    "f = np.sqrt( 1 - x * x )\n",
    "f2 = 1 - x * x"
   ]
  },
  {
   "cell_type": "markdown",
   "id": "adf2cc2c-4367-4ba2-a0cc-26b12d463566",
   "metadata": {},
   "source": [
    "Then $f(x)$ can be accumulated, $facc1 = facc1 + f(x)$, and used to estimate the area of the circle through the integral:\n",
    "$$I= 4 \\cdot \\frac{facc1}{N}$$\n"
   ]
  },
  {
   "cell_type": "code",
   "execution_count": 15,
   "id": "d28e4c17-e4c2-4c35-96d8-6a39ad5bab21",
   "metadata": {},
   "outputs": [
    {
     "name": "stdout",
     "output_type": "stream",
     "text": [
      "The area of the unitary circle is equal to pi, that we estimated as: 3.144\n"
     ]
    }
   ],
   "source": [
    "facc1 = np.sum(f)\n",
    "facc2 = np.sum(f2)\n",
    "I = np.around( 4 * facc1 / N , decimals = 3 )\n",
    "\n",
    "print( \"The area of the unitary circle is equal to pi, that we estimated as:\", I )"
   ]
  },
  {
   "cell_type": "markdown",
   "id": "f07b9605-eea6-46ac-99e7-aff2a163c502",
   "metadata": {},
   "source": [
    "# 3. Weigthed method (hit or miss). "
   ]
  },
  {
   "cell_type": "markdown",
   "id": "c74dc297-efa9-4ccb-8d52-af4f5c3e5dea",
   "metadata": {},
   "source": [
    "To be efficient, the hit-or-miss method requires we have a good estime of the maximum of the function we want to integrate. We generate a random couple $(x_i,y_i)$ in the unitary square with a vertex in the origin and we accept the point if it respects the condition:\n",
    "\n",
    "$$y_i\\cdot fmax \\leq f(x_i) $$"
   ]
  },
  {
   "cell_type": "code",
   "execution_count": 19,
   "id": "3f8d346f-75fd-4fd0-94d7-574db7945b3e",
   "metadata": {},
   "outputs": [
    {
     "name": "stdout",
     "output_type": "stream",
     "text": [
      "The area of the unitary circle is equal to pi, that we estimated as: 3.134\n"
     ]
    }
   ],
   "source": [
    "x_rnd = random.rand(N)\n",
    "y_rnd = random.rand(N)\n",
    "\n",
    "f_th = np.sqrt( 1 - x_rnd ** 2 )\n",
    "\n",
    "n_accepted = np.sum( f_th >= y_rnd )\n",
    "\n",
    "I = np.around( 4 *n_accepted / N , decimals = 3 )\n",
    "\n",
    "print( \"The area of the unitary circle is equal to pi, that we estimated as:\", I )"
   ]
  },
  {
   "cell_type": "markdown",
   "id": "7400aac8-6e24-4a70-a8d3-230f467ac6d4",
   "metadata": {},
   "source": [
    "# Notes:\n",
    "- Method 2. is more efficient than method 3. because it requires for the generation of only one random mvariable and no point is discarded. For this reason, given $N$, result 2. is more precide.\n",
    "- Method 3. is a computer implementation of method 1., where the favorable case is defined throgh a good extraction."
   ]
  },
  {
   "cell_type": "code",
   "execution_count": null,
   "id": "408dc7bd-57b6-4a62-9a57-e92c88eb04c5",
   "metadata": {},
   "outputs": [],
   "source": []
  }
 ],
 "metadata": {
  "kernelspec": {
   "display_name": "ddsande",
   "language": "python",
   "name": "ddsande"
  },
  "language_info": {
   "codemirror_mode": {
    "name": "ipython",
    "version": 3
   },
   "file_extension": ".py",
   "mimetype": "text/x-python",
   "name": "python",
   "nbconvert_exporter": "python",
   "pygments_lexer": "ipython3",
   "version": "3.10.10"
  }
 },
 "nbformat": 4,
 "nbformat_minor": 5
}
